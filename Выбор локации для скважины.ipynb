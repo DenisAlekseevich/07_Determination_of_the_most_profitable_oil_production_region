{
 "cells": [
  {
   "cell_type": "markdown",
   "metadata": {},
   "source": [
    "# Выбор локации для скважины"
   ]
  },
  {
   "cell_type": "markdown",
   "metadata": {},
   "source": [
    "Допустим, вы работаете в добывающей компании «ГлавРосГосНефть». Нужно решить, где бурить новую скважину.\n",
    "\n",
    "Вам предоставлены пробы нефти в трёх регионах: в каждом 10 000 месторождений, где измерили качество нефти и объём её запасов. Постройте модель машинного обучения, которая поможет определить регион, где добыча принесёт наибольшую прибыль. Проанализируйте возможную прибыль и риски техникой *Bootstrap.*\n",
    "\n",
    "Шаги для выбора локации:\n",
    "\n",
    "- В избранном регионе ищут месторождения, для каждого определяют значения признаков;\n",
    "- Строят модель и оценивают объём запасов;\n",
    "- Выбирают месторождения с самым высокими оценками значений. Количество месторождений зависит от бюджета компании и стоимости разработки одной скважины;\n",
    "- Прибыль равна суммарной прибыли отобранных месторождений."
   ]
  },
  {
   "cell_type": "markdown",
   "metadata": {},
   "source": [
    "## Загрузка и подготовка данных"
   ]
  },
  {
   "cell_type": "code",
   "execution_count": 1,
   "metadata": {},
   "outputs": [],
   "source": [
    "import pandas as pd\n",
    "import numpy as np\n",
    "from sklearn.model_selection import train_test_split\n",
    "from sklearn.linear_model import LinearRegression\n",
    "from sklearn.metrics import mean_squared_error, r2_score"
   ]
  },
  {
   "cell_type": "code",
   "execution_count": 2,
   "metadata": {},
   "outputs": [],
   "source": [
    "geo = [\n",
    "    pd.read_csv('C:\\\\Users\\\\admin\\\\Desktop\\\\DS_yandex\\\\07_Выбор локации для скважины\\\\geo_data_0.csv'), \n",
    "    pd.read_csv('C:\\\\Users\\\\admin\\\\Desktop\\\\DS_yandex\\\\07_Выбор локации для скважины\\\\geo_data_1.csv'), \n",
    "    pd.read_csv('C:\\\\Users\\\\admin\\\\Desktop\\\\DS_yandex\\\\07_Выбор локации для скважины\\\\geo_data_2.csv')\n",
    "]"
   ]
  },
  {
   "cell_type": "code",
   "execution_count": 3,
   "metadata": {
    "scrolled": false
   },
   "outputs": [
    {
     "data": {
      "text/html": [
       "<div>\n",
       "<style scoped>\n",
       "    .dataframe tbody tr th:only-of-type {\n",
       "        vertical-align: middle;\n",
       "    }\n",
       "\n",
       "    .dataframe tbody tr th {\n",
       "        vertical-align: top;\n",
       "    }\n",
       "\n",
       "    .dataframe thead th {\n",
       "        text-align: right;\n",
       "    }\n",
       "</style>\n",
       "<table border=\"1\" class=\"dataframe\">\n",
       "  <thead>\n",
       "    <tr style=\"text-align: right;\">\n",
       "      <th></th>\n",
       "      <th>id</th>\n",
       "      <th>f0</th>\n",
       "      <th>f1</th>\n",
       "      <th>f2</th>\n",
       "      <th>product</th>\n",
       "    </tr>\n",
       "  </thead>\n",
       "  <tbody>\n",
       "    <tr>\n",
       "      <th>0</th>\n",
       "      <td>txEyH</td>\n",
       "      <td>0.705745</td>\n",
       "      <td>-0.497823</td>\n",
       "      <td>1.221170</td>\n",
       "      <td>105.280062</td>\n",
       "    </tr>\n",
       "    <tr>\n",
       "      <th>1</th>\n",
       "      <td>2acmU</td>\n",
       "      <td>1.334711</td>\n",
       "      <td>-0.340164</td>\n",
       "      <td>4.365080</td>\n",
       "      <td>73.037750</td>\n",
       "    </tr>\n",
       "    <tr>\n",
       "      <th>2</th>\n",
       "      <td>409Wp</td>\n",
       "      <td>1.022732</td>\n",
       "      <td>0.151990</td>\n",
       "      <td>1.419926</td>\n",
       "      <td>85.265647</td>\n",
       "    </tr>\n",
       "    <tr>\n",
       "      <th>3</th>\n",
       "      <td>iJLyR</td>\n",
       "      <td>-0.032172</td>\n",
       "      <td>0.139033</td>\n",
       "      <td>2.978566</td>\n",
       "      <td>168.620776</td>\n",
       "    </tr>\n",
       "    <tr>\n",
       "      <th>4</th>\n",
       "      <td>Xdl7t</td>\n",
       "      <td>1.988431</td>\n",
       "      <td>0.155413</td>\n",
       "      <td>4.751769</td>\n",
       "      <td>154.036647</td>\n",
       "    </tr>\n",
       "  </tbody>\n",
       "</table>\n",
       "</div>"
      ],
      "text/plain": [
       "      id        f0        f1        f2     product\n",
       "0  txEyH  0.705745 -0.497823  1.221170  105.280062\n",
       "1  2acmU  1.334711 -0.340164  4.365080   73.037750\n",
       "2  409Wp  1.022732  0.151990  1.419926   85.265647\n",
       "3  iJLyR -0.032172  0.139033  2.978566  168.620776\n",
       "4  Xdl7t  1.988431  0.155413  4.751769  154.036647"
      ]
     },
     "metadata": {},
     "output_type": "display_data"
    },
    {
     "name": "stdout",
     "output_type": "stream",
     "text": [
      "<class 'pandas.core.frame.DataFrame'>\n",
      "RangeIndex: 100000 entries, 0 to 99999\n",
      "Data columns (total 5 columns):\n",
      " #   Column   Non-Null Count   Dtype  \n",
      "---  ------   --------------   -----  \n",
      " 0   id       100000 non-null  object \n",
      " 1   f0       100000 non-null  float64\n",
      " 2   f1       100000 non-null  float64\n",
      " 3   f2       100000 non-null  float64\n",
      " 4   product  100000 non-null  float64\n",
      "dtypes: float64(4), object(1)\n",
      "memory usage: 3.8+ MB\n"
     ]
    }
   ],
   "source": [
    "display(geo[0].head())\n",
    "geo[0].info()"
   ]
  },
  {
   "cell_type": "code",
   "execution_count": 4,
   "metadata": {},
   "outputs": [
    {
     "name": "stdout",
     "output_type": "stream",
     "text": [
      "          id        f0        f1         f2     product\n",
      "66136  74z30  1.084962 -0.312358   6.990771  127.643327\n",
      "64022  74z30  0.741456  0.459229   5.153109  140.771492\n",
      "51970  A5aEY -0.180335  0.935548  -2.094773   33.020205\n",
      "3389   A5aEY -0.039949  0.156872   0.209861   89.249364\n",
      "69163  AGS9W -0.933795  0.116194  -3.655896   19.230453\n",
      "42529  AGS9W  1.454747 -0.479651   0.683380  126.370504\n",
      "931    HZww2  0.755284  0.368511   1.863211   30.681774\n",
      "7530   HZww2  1.061194 -0.373969  10.430210  158.828695\n",
      "63593  QcMuo  0.635635 -0.473422   0.862670   64.578675\n",
      "1949   QcMuo  0.506563 -0.323775  -2.215583   75.496502\n",
      "75715  Tdehs  0.112079  0.430296   3.218993   60.964018\n",
      "21426  Tdehs  0.829407  0.298807  -0.049563   96.035308\n",
      "92341  TtcGQ  0.110711  1.022689   0.911381  101.318008\n",
      "60140  TtcGQ  0.569276 -0.104876   6.440215   85.350186\n",
      "89582  bsk9y  0.398908 -0.400253  10.122376  163.433078\n",
      "97785  bsk9y  0.378429  0.005837   0.160827  160.637302\n",
      "41724  bxg6G -0.823752  0.546319   3.630479   93.007798\n",
      "1364   bxg6G  0.411645  0.856830  -3.653440   73.604260\n",
      "16633  fiKDv  0.157341  1.028359   5.585586   95.817889\n",
      "90815  fiKDv  0.049883  0.841313   6.394613  137.346586\n"
     ]
    }
   ],
   "source": [
    "dublic = list(geo[0]['id'].value_counts().head(10).index)\n",
    "print(geo[0].query('id in @dublic').sort_values(by = 'id'))"
   ]
  },
  {
   "cell_type": "code",
   "execution_count": 5,
   "metadata": {
    "scrolled": false
   },
   "outputs": [
    {
     "data": {
      "text/html": [
       "<div>\n",
       "<style scoped>\n",
       "    .dataframe tbody tr th:only-of-type {\n",
       "        vertical-align: middle;\n",
       "    }\n",
       "\n",
       "    .dataframe tbody tr th {\n",
       "        vertical-align: top;\n",
       "    }\n",
       "\n",
       "    .dataframe thead th {\n",
       "        text-align: right;\n",
       "    }\n",
       "</style>\n",
       "<table border=\"1\" class=\"dataframe\">\n",
       "  <thead>\n",
       "    <tr style=\"text-align: right;\">\n",
       "      <th></th>\n",
       "      <th>id</th>\n",
       "      <th>f0</th>\n",
       "      <th>f1</th>\n",
       "      <th>f2</th>\n",
       "      <th>product</th>\n",
       "    </tr>\n",
       "  </thead>\n",
       "  <tbody>\n",
       "    <tr>\n",
       "      <th>0</th>\n",
       "      <td>kBEdx</td>\n",
       "      <td>-15.001348</td>\n",
       "      <td>-8.276000</td>\n",
       "      <td>-0.005876</td>\n",
       "      <td>3.179103</td>\n",
       "    </tr>\n",
       "    <tr>\n",
       "      <th>1</th>\n",
       "      <td>62mP7</td>\n",
       "      <td>14.272088</td>\n",
       "      <td>-3.475083</td>\n",
       "      <td>0.999183</td>\n",
       "      <td>26.953261</td>\n",
       "    </tr>\n",
       "    <tr>\n",
       "      <th>2</th>\n",
       "      <td>vyE1P</td>\n",
       "      <td>6.263187</td>\n",
       "      <td>-5.948386</td>\n",
       "      <td>5.001160</td>\n",
       "      <td>134.766305</td>\n",
       "    </tr>\n",
       "    <tr>\n",
       "      <th>3</th>\n",
       "      <td>KcrkZ</td>\n",
       "      <td>-13.081196</td>\n",
       "      <td>-11.506057</td>\n",
       "      <td>4.999415</td>\n",
       "      <td>137.945408</td>\n",
       "    </tr>\n",
       "    <tr>\n",
       "      <th>4</th>\n",
       "      <td>AHL4O</td>\n",
       "      <td>12.702195</td>\n",
       "      <td>-8.147433</td>\n",
       "      <td>5.004363</td>\n",
       "      <td>134.766305</td>\n",
       "    </tr>\n",
       "  </tbody>\n",
       "</table>\n",
       "</div>"
      ],
      "text/plain": [
       "      id         f0         f1        f2     product\n",
       "0  kBEdx -15.001348  -8.276000 -0.005876    3.179103\n",
       "1  62mP7  14.272088  -3.475083  0.999183   26.953261\n",
       "2  vyE1P   6.263187  -5.948386  5.001160  134.766305\n",
       "3  KcrkZ -13.081196 -11.506057  4.999415  137.945408\n",
       "4  AHL4O  12.702195  -8.147433  5.004363  134.766305"
      ]
     },
     "metadata": {},
     "output_type": "display_data"
    },
    {
     "name": "stdout",
     "output_type": "stream",
     "text": [
      "<class 'pandas.core.frame.DataFrame'>\n",
      "RangeIndex: 100000 entries, 0 to 99999\n",
      "Data columns (total 5 columns):\n",
      " #   Column   Non-Null Count   Dtype  \n",
      "---  ------   --------------   -----  \n",
      " 0   id       100000 non-null  object \n",
      " 1   f0       100000 non-null  float64\n",
      " 2   f1       100000 non-null  float64\n",
      " 3   f2       100000 non-null  float64\n",
      " 4   product  100000 non-null  float64\n",
      "dtypes: float64(4), object(1)\n",
      "memory usage: 3.8+ MB\n"
     ]
    }
   ],
   "source": [
    "display(geo[1].head())\n",
    "geo[1].info()"
   ]
  },
  {
   "cell_type": "code",
   "execution_count": 6,
   "metadata": {},
   "outputs": [
    {
     "name": "stdout",
     "output_type": "stream",
     "text": [
      "          id         f0         f1        f2     product\n",
      "5849   5ltQ6  -3.435401 -12.296043  1.999796   57.085625\n",
      "84461  5ltQ6  18.213839   2.191999  3.993869  107.813044\n",
      "1305   LHZR0  11.170835  -1.945066  3.002872   80.859783\n",
      "41906  LHZR0  -8.989672  -4.286607  2.009139   57.085625\n",
      "2721   bfPNe  -9.494442  -5.463692  4.006042  110.992147\n",
      "82178  bfPNe  -6.202799  -4.820045  2.995107   84.038886\n",
      "47591  wt4Uk  -9.091098  -8.109279 -0.002314    3.179103\n",
      "82873  wt4Uk  10.259972  -9.376355  4.994297  134.766305\n"
     ]
    }
   ],
   "source": [
    "dublic = list(geo[1]['id'].value_counts().head(4).index)\n",
    "print(geo[1].query('id in @dublic').sort_values(by = 'id'))"
   ]
  },
  {
   "cell_type": "code",
   "execution_count": 7,
   "metadata": {},
   "outputs": [
    {
     "data": {
      "text/html": [
       "<div>\n",
       "<style scoped>\n",
       "    .dataframe tbody tr th:only-of-type {\n",
       "        vertical-align: middle;\n",
       "    }\n",
       "\n",
       "    .dataframe tbody tr th {\n",
       "        vertical-align: top;\n",
       "    }\n",
       "\n",
       "    .dataframe thead th {\n",
       "        text-align: right;\n",
       "    }\n",
       "</style>\n",
       "<table border=\"1\" class=\"dataframe\">\n",
       "  <thead>\n",
       "    <tr style=\"text-align: right;\">\n",
       "      <th></th>\n",
       "      <th>id</th>\n",
       "      <th>f0</th>\n",
       "      <th>f1</th>\n",
       "      <th>f2</th>\n",
       "      <th>product</th>\n",
       "    </tr>\n",
       "  </thead>\n",
       "  <tbody>\n",
       "    <tr>\n",
       "      <th>0</th>\n",
       "      <td>fwXo0</td>\n",
       "      <td>-1.146987</td>\n",
       "      <td>0.963328</td>\n",
       "      <td>-0.828965</td>\n",
       "      <td>27.758673</td>\n",
       "    </tr>\n",
       "    <tr>\n",
       "      <th>1</th>\n",
       "      <td>WJtFt</td>\n",
       "      <td>0.262778</td>\n",
       "      <td>0.269839</td>\n",
       "      <td>-2.530187</td>\n",
       "      <td>56.069697</td>\n",
       "    </tr>\n",
       "    <tr>\n",
       "      <th>2</th>\n",
       "      <td>ovLUW</td>\n",
       "      <td>0.194587</td>\n",
       "      <td>0.289035</td>\n",
       "      <td>-5.586433</td>\n",
       "      <td>62.871910</td>\n",
       "    </tr>\n",
       "    <tr>\n",
       "      <th>3</th>\n",
       "      <td>q6cA6</td>\n",
       "      <td>2.236060</td>\n",
       "      <td>-0.553760</td>\n",
       "      <td>0.930038</td>\n",
       "      <td>114.572842</td>\n",
       "    </tr>\n",
       "    <tr>\n",
       "      <th>4</th>\n",
       "      <td>WPMUX</td>\n",
       "      <td>-0.515993</td>\n",
       "      <td>1.716266</td>\n",
       "      <td>5.899011</td>\n",
       "      <td>149.600746</td>\n",
       "    </tr>\n",
       "  </tbody>\n",
       "</table>\n",
       "</div>"
      ],
      "text/plain": [
       "      id        f0        f1        f2     product\n",
       "0  fwXo0 -1.146987  0.963328 -0.828965   27.758673\n",
       "1  WJtFt  0.262778  0.269839 -2.530187   56.069697\n",
       "2  ovLUW  0.194587  0.289035 -5.586433   62.871910\n",
       "3  q6cA6  2.236060 -0.553760  0.930038  114.572842\n",
       "4  WPMUX -0.515993  1.716266  5.899011  149.600746"
      ]
     },
     "metadata": {},
     "output_type": "display_data"
    },
    {
     "name": "stdout",
     "output_type": "stream",
     "text": [
      "<class 'pandas.core.frame.DataFrame'>\n",
      "RangeIndex: 100000 entries, 0 to 99999\n",
      "Data columns (total 5 columns):\n",
      " #   Column   Non-Null Count   Dtype  \n",
      "---  ------   --------------   -----  \n",
      " 0   id       100000 non-null  object \n",
      " 1   f0       100000 non-null  float64\n",
      " 2   f1       100000 non-null  float64\n",
      " 3   f2       100000 non-null  float64\n",
      " 4   product  100000 non-null  float64\n",
      "dtypes: float64(4), object(1)\n",
      "memory usage: 3.8+ MB\n"
     ]
    }
   ],
   "source": [
    "display(geo[2].head())\n",
    "geo[2].info()"
   ]
  },
  {
   "cell_type": "code",
   "execution_count": 8,
   "metadata": {
    "scrolled": true
   },
   "outputs": [
    {
     "name": "stdout",
     "output_type": "stream",
     "text": [
      "          id        f0        f1        f2     product\n",
      "45404  KUPhW  0.231846 -1.698941  4.990775   11.716299\n",
      "55967  KUPhW  1.211150  3.176408  5.543540  132.831802\n",
      "11449  VF7Jo  2.122656 -0.858275  5.746001  181.716817\n",
      "49564  VF7Jo -0.883115  0.560537  0.723601  136.233420\n",
      "44378  Vcm5J -1.229484 -2.439204  1.222909  137.968290\n",
      "95090  Vcm5J  2.587702  1.986875  2.482245   92.327572\n",
      "28039  xCHr8  1.633027  0.368135 -2.378367    6.120525\n",
      "43233  xCHr8 -0.847066  2.101796  5.597130  184.388641\n"
     ]
    }
   ],
   "source": [
    "dublic = list(geo[2]['id'].value_counts().head(4).index)\n",
    "print(geo[2].query('id in @dublic').sort_values(by = 'id'))"
   ]
  },
  {
   "cell_type": "markdown",
   "metadata": {},
   "source": [
    "### Замечания по предоставленным данным"
   ]
  },
  {
   "cell_type": "markdown",
   "metadata": {},
   "source": [
    "Во всех трёх наборах данных присутствует повторения id скважин, однако остальные данные по этим скважинам разнятся. Вероятнее всего при выгрузке данных произошол сбой и реальные id данных скважин не попали в наборы данных. Необходимо сообщить об этом тем, что ответственнен за выгрузку."
   ]
  },
  {
   "cell_type": "markdown",
   "metadata": {},
   "source": [
    "## Обучение и проверка модели"
   ]
  },
  {
   "cell_type": "code",
   "execution_count": 9,
   "metadata": {},
   "outputs": [],
   "source": [
    "def train_model(n):\n",
    "    features = geo[n].drop(['id', 'product'], axis = 1)\n",
    "    target = geo[n]['product']\n",
    "    features_train, features_valid, target_train, target_valid = train_test_split(features, \n",
    "                                                                            target, \n",
    "                                                                            test_size = 0.25, \n",
    "                                                                            random_state = 12345)\n",
    "    \n",
    "    model = LinearRegression()\n",
    "    model.fit(features_train,target_train) \n",
    "    predicted_valid = model.predict(features_valid)\n",
    "    mean = predicted_valid.mean()\n",
    "    rmse = (mean_squared_error(target_valid, predicted_valid) ** 0.5)\n",
    "    r2 = r2_score(target_valid, predicted_valid)\n",
    "    data = {'model': model, \n",
    "            'target_valid': target_valid.reset_index(drop = True), \n",
    "            'predicted_valid': predicted_valid, \n",
    "            'r2': r2, \n",
    "            'rmse': rmse, \n",
    "            'mean': mean}\n",
    "    return data"
   ]
  },
  {
   "cell_type": "markdown",
   "metadata": {},
   "source": [
    "### Регион \"0\""
   ]
  },
  {
   "cell_type": "code",
   "execution_count": 10,
   "metadata": {},
   "outputs": [],
   "source": [
    "model_geo_0 = train_model(0)"
   ]
  },
  {
   "cell_type": "code",
   "execution_count": 11,
   "metadata": {
    "scrolled": true
   },
   "outputs": [
    {
     "name": "stdout",
     "output_type": "stream",
     "text": [
      "Средний запас предсказанного сырья: 92.593 \n",
      "Значение RMSE: 37.579 \n",
      "Значение R2-score: 0.28\n"
     ]
    }
   ],
   "source": [
    "print('Средний запас предсказанного сырья:', model_geo_0['mean'].round(3), \n",
    "      '\\nЗначение RMSE:', model_geo_0['rmse'].round(3), \n",
    "      '\\nЗначение R2-score:', model_geo_0['r2'].round(3))"
   ]
  },
  {
   "cell_type": "markdown",
   "metadata": {},
   "source": [
    "### Регион \"1\""
   ]
  },
  {
   "cell_type": "code",
   "execution_count": 12,
   "metadata": {
    "scrolled": true
   },
   "outputs": [],
   "source": [
    "model_geo_1 = train_model(1)"
   ]
  },
  {
   "cell_type": "code",
   "execution_count": 13,
   "metadata": {},
   "outputs": [
    {
     "name": "stdout",
     "output_type": "stream",
     "text": [
      "Средний запас предсказанного сырья: 68.729 \n",
      "Значение RMSE: 0.893 \n",
      "Значение R2-score: 1.0\n"
     ]
    }
   ],
   "source": [
    "print('Средний запас предсказанного сырья:', model_geo_1['mean'].round(3), \n",
    "      '\\nЗначение RMSE:', model_geo_1['rmse'].round(3), \n",
    "      '\\nЗначение R2-score:', model_geo_1['r2'].round(3))"
   ]
  },
  {
   "cell_type": "markdown",
   "metadata": {},
   "source": [
    "### Регион \"2\""
   ]
  },
  {
   "cell_type": "code",
   "execution_count": 14,
   "metadata": {
    "scrolled": true
   },
   "outputs": [],
   "source": [
    "model_geo_2 = train_model(2)"
   ]
  },
  {
   "cell_type": "code",
   "execution_count": 15,
   "metadata": {},
   "outputs": [
    {
     "name": "stdout",
     "output_type": "stream",
     "text": [
      "Средний запас предсказанного сырья: 94.965 \n",
      "Значение RMSE: 40.03 \n",
      "Значение R2-score: 0.205\n"
     ]
    }
   ],
   "source": [
    "print('Средний запас предсказанного сырья:', model_geo_2['mean'].round(3), \n",
    "      '\\nЗначение RMSE:', model_geo_2['rmse'].round(3), \n",
    "      '\\nЗначение R2-score:', model_geo_2['r2'].round(3))"
   ]
  },
  {
   "cell_type": "markdown",
   "metadata": {},
   "source": [
    "### Выводы"
   ]
  },
  {
   "cell_type": "markdown",
   "metadata": {},
   "source": [
    "Для каждого региона модели были обучены и с необходимыми далее переменными сохранены.\n",
    "Следует отметить, что у региона \"1\" очень низкое значение RMSE и R2-score равен единице."
   ]
  },
  {
   "cell_type": "markdown",
   "metadata": {},
   "source": [
    "## Подготовка к расчёту прибыли"
   ]
  },
  {
   "cell_type": "markdown",
   "metadata": {},
   "source": [
    "Рассчитаем достаточный объём сырья для безубыточной разработки новой скважины."
   ]
  },
  {
   "cell_type": "code",
   "execution_count": 16,
   "metadata": {},
   "outputs": [],
   "source": [
    "BUDGET = 10*(10**9)\n",
    "TOP_200 = 200\n",
    "PRICE_BARREL = 450000"
   ]
  },
  {
   "cell_type": "code",
   "execution_count": 17,
   "metadata": {
    "scrolled": true
   },
   "outputs": [
    {
     "name": "stdout",
     "output_type": "stream",
     "text": [
      "111.11\n"
     ]
    }
   ],
   "source": [
    "product_no_loss = round(BUDGET/TOP_200/PRICE_BARREL, 2)\n",
    "print(product_no_loss)"
   ]
  },
  {
   "cell_type": "markdown",
   "metadata": {},
   "source": [
    "Сравним полученный объем сырья со средними запасами по регионам."
   ]
  },
  {
   "cell_type": "code",
   "execution_count": 18,
   "metadata": {},
   "outputs": [
    {
     "data": {
      "text/plain": [
       "count    100000.000000\n",
       "mean         92.500000\n",
       "std          44.288691\n",
       "min           0.000000\n",
       "25%          56.497507\n",
       "50%          91.849972\n",
       "75%         128.564089\n",
       "max         185.364347\n",
       "Name: product, dtype: float64"
      ]
     },
     "metadata": {},
     "output_type": "display_data"
    },
    {
     "data": {
      "text/plain": [
       "count    100000.000000\n",
       "mean         68.825000\n",
       "std          45.944423\n",
       "min           0.000000\n",
       "25%          26.953261\n",
       "50%          57.085625\n",
       "75%         107.813044\n",
       "max         137.945408\n",
       "Name: product, dtype: float64"
      ]
     },
     "metadata": {},
     "output_type": "display_data"
    },
    {
     "data": {
      "text/plain": [
       "count    100000.000000\n",
       "mean         95.000000\n",
       "std          44.749921\n",
       "min           0.000000\n",
       "25%          59.450441\n",
       "50%          94.925613\n",
       "75%         130.595027\n",
       "max         190.029838\n",
       "Name: product, dtype: float64"
      ]
     },
     "metadata": {},
     "output_type": "display_data"
    }
   ],
   "source": [
    "for i in range(3):\n",
    "    display(geo[i]['product'].describe())"
   ]
  },
  {
   "cell_type": "code",
   "execution_count": 19,
   "metadata": {
    "scrolled": true
   },
   "outputs": [
    {
     "name": "stdout",
     "output_type": "stream",
     "text": [
      "Средний объём нефти в скажинах 0 региона равен 92.5 баррелей.\n",
      "Средний объём нефти в скажинах 1 региона равен 68.825 баррелей.\n",
      "Средний объём нефти в скажинах 2 региона равен 95.0 баррелей.\n"
     ]
    }
   ],
   "source": [
    "for i in range(3):\n",
    "    print('Средний объём нефти в скажинах', i, 'региона равен', geo[i]['product'].mean().round(6), 'баррелей.')"
   ]
  },
  {
   "cell_type": "code",
   "execution_count": 20,
   "metadata": {},
   "outputs": [
    {
     "name": "stdout",
     "output_type": "stream",
     "text": [
      "36% скважин в регионе geo_0 содержат больше сырья, чем 111.87 баррелей.\n",
      "17% скважин в регионе geo_1 содержат больше сырья, чем 110.99 баррелей.\n",
      "38% скважин в регионе geo_2 содержат больше сырья, чем 111.34 баррелей.\n"
     ]
    }
   ],
   "source": [
    "print('36% скважин в регионе geo_0 содержат больше сырья, чем', round(geo[0]['product'].quantile(0.64),2), 'баррелей.')\n",
    "print('17% скважин в регионе geo_1 содержат больше сырья, чем', round(geo[1]['product'].quantile(0.83),2), 'баррелей.')\n",
    "print('38% скважин в регионе geo_2 содержат больше сырья, чем', round(geo[2]['product'].quantile(0.62),2), 'баррелей.')"
   ]
  },
  {
   "cell_type": "markdown",
   "metadata": {},
   "source": [
    "Таким образом понятно, что если разрабатывать все скважины каждого региона с предложенным нам бюджетом, то это будет финансово невыгодно. Поэтому в каждом регионе и отбираются 200 наиболее перспективных скважин для рассчета максимальных прибылей от разработки в определенном регионе. "
   ]
  },
  {
   "cell_type": "markdown",
   "metadata": {},
   "source": [
    "## Расчёт прибыли и рисков "
   ]
  },
  {
   "cell_type": "code",
   "execution_count": 21,
   "metadata": {},
   "outputs": [],
   "source": [
    "model_geo = [model_geo_0, model_geo_1, model_geo_2]"
   ]
  },
  {
   "cell_type": "code",
   "execution_count": 22,
   "metadata": {},
   "outputs": [],
   "source": [
    "## функция, рассчитывающая прибыль от 200 лучших скважин\n",
    "def income(target_valid, predicted_valid):\n",
    "    probs_sorted = pd.Series(predicted_valid).sort_values(ascending=False)\n",
    "    selected = target_valid[probs_sorted.index][:TOP_200]\n",
    "    return int((selected.sum() * PRICE_BARREL) - BUDGET)"
   ]
  },
  {
   "cell_type": "markdown",
   "metadata": {},
   "source": [
    "Рассчитаем прибыль от наиболее перспективных скважин каждого региона."
   ]
  },
  {
   "cell_type": "code",
   "execution_count": 23,
   "metadata": {},
   "outputs": [
    {
     "name": "stdout",
     "output_type": "stream",
     "text": [
      "Прибыль от лучших 200 скважен в 0 регионе равна 3320826043\n",
      "Прибыль от лучших 200 скважен в 1 регионе равна 2415086696\n",
      "Прибыль от лучших 200 скважен в 2 регионе равна 2710349963\n"
     ]
    }
   ],
   "source": [
    "for i in range(3):\n",
    "    print('Прибыль от лучших 200 скважен в', i, 'регионе равна', \n",
    "          income(model_geo[i]['target_valid'], model_geo[i]['predicted_valid']))"
   ]
  },
  {
   "cell_type": "markdown",
   "metadata": {},
   "source": [
    "Теперь определим 95% доверительный интервал для прибыли у каждого региона."
   ]
  },
  {
   "cell_type": "code",
   "execution_count": 24,
   "metadata": {},
   "outputs": [],
   "source": [
    "def confidence_interval(m):\n",
    "    state = np.random.RandomState(125)\n",
    "    values = []\n",
    "    for i in range(1000):\n",
    "        target_subsample = model_geo[m]['target_valid'].sample(n = 500, replace=True, random_state=state)\n",
    "        probs_subsample = pd.Series(model_geo[m]['predicted_valid'])[target_subsample.index]\n",
    "        values.append(income(target_subsample, probs_subsample))\n",
    "    values = pd.Series(values)\n",
    "    print('--- Регион', m, '---')\n",
    "    print('Прибыль:', int(values.mean()))\n",
    "    print('Вероятность убытков:', round(values.apply(lambda x: x < 0).sum() / len(values) * 100, 2), '%')\n",
    "    \n",
    "    lower = values.quantile(0.025)\n",
    "    upper = values.quantile(0.975)\n",
    "    return int(lower), int(upper)"
   ]
  },
  {
   "cell_type": "code",
   "execution_count": 25,
   "metadata": {},
   "outputs": [
    {
     "name": "stdout",
     "output_type": "stream",
     "text": [
      "--- Регион 0 ---\n",
      "Прибыль: 415512423\n",
      "Вероятность убытков: 6.8 %\n",
      "95% доверительный интервал для 0 региона лежит между: (-109898028, 947062942)\n",
      "\n",
      "*****************************************************************************************\n",
      "\n",
      "--- Регион 1 ---\n",
      "Прибыль: 503903709\n",
      "Вероятность убытков: 0.4 %\n",
      "95% доверительный интервал для 1 региона лежит между: (105838585, 966480571)\n",
      "\n",
      "*****************************************************************************************\n",
      "\n",
      "--- Регион 2 ---\n",
      "Прибыль: 417500453\n",
      "Вероятность убытков: 7.5 %\n",
      "95% доверительный интервал для 2 региона лежит между: (-168207000, 983313686)\n",
      "\n",
      "*****************************************************************************************\n",
      "\n"
     ]
    }
   ],
   "source": [
    "for i in range(3):\n",
    "    print('95% доверительный интервал для', i, 'региона лежит между:', confidence_interval(i))\n",
    "    print('\\n*****************************************************************************************\\n')"
   ]
  },
  {
   "cell_type": "markdown",
   "metadata": {},
   "source": [
    "### Вывод"
   ]
  },
  {
   "cell_type": "markdown",
   "metadata": {},
   "source": [
    "Была поставлена задача выбрать регион добычи нефти с наименьший вероятностью убытков. Были предоставлены данные проб нефти(её качество и количество) из трех регионов(в каждом 10 000 месторождений).\n",
    "\n",
    "После загрузки и подготовки данных, на них обучили модели для каждого региона и с необходимыми далее переменными сохранены.\n",
    "В ходе обучения выяснилось, что у региона \"1\" очень низкое значение RMSE и R2-score равен единице.\n",
    "\n",
    "При подготовке к рассчету прибыли выяснилось, что достаточный объём сырья для безубыточной разработки новой скважины равен 111.11 баррелей. При этом средний объём нефти в скважинах регионов \"0\" и \"2\" почти на треть превышает оный в регионе \"1\"(92.5 и 95 баррелей против 68.825). И скважин, которые содержат сырья для безубыточной разработки, от общего количества в каждом регионе равно: регион \"0\" - 36%, \"1\" - 17%, \"2\" - 38%.\n",
    "\n",
    "Рассчет прибыли от 200 лучших скважин каждого региона показал следующее: \n",
    "- регион \"0\" - 3.320.826.043;\n",
    "- регион \"1\" - 2.415.086.696;\n",
    "- регион \"2\" - 2.710.349.963.\n",
    "\n",
    "Далее, благодаря рассчету рисков были получены следующие данные:\n"
   ]
  },
  {
   "cell_type": "markdown",
   "metadata": {},
   "source": [
    "| Регион | Прибыль | Вероятность убытков | 95% доверительный интервал |\n",
    "|:--:|:--:|:--:|:--:|\n",
    "| 0 | 415.512.423 | 6.8 % | (-109.898.028, 947.062.942) |  \n",
    "| 1 | 503.903.709 | 0.4 % | (105.838.585, 966.480.571) |  \n",
    "| 2 | 417.500.453 | 7.5 % | (-168.207.000, 983.313.686) |"
   ]
  },
  {
   "cell_type": "markdown",
   "metadata": {},
   "source": [
    "**Только в регионе \"1\" вероятность убытков ниже 2,5%, а именно 0.4%. \n",
    "Соответственно к разработке рекомендуется регион \"1\" со средней предполагаемой прибылью в 503.903.709 и с доверительным интервалом (105.838.585, 966.480.571).**   \n"
   ]
  }
 ],
 "metadata": {
  "ExecuteTimeLog": [
   {
    "duration": 750,
    "start_time": "2021-09-17T11:30:30.477Z"
   },
   {
    "duration": 170,
    "start_time": "2021-09-17T11:30:33.156Z"
   },
   {
    "duration": 27,
    "start_time": "2021-09-17T11:30:55.133Z"
   },
   {
    "duration": 643,
    "start_time": "2021-09-17T11:32:29.948Z"
   },
   {
    "duration": 499,
    "start_time": "2021-09-17T11:33:01.760Z"
   },
   {
    "duration": 29,
    "start_time": "2021-09-17T11:33:51.963Z"
   },
   {
    "duration": 24,
    "start_time": "2021-09-17T11:34:02.363Z"
   },
   {
    "duration": 27,
    "start_time": "2021-09-17T11:34:31.164Z"
   },
   {
    "duration": 23,
    "start_time": "2021-09-17T11:34:51.994Z"
   },
   {
    "duration": 137,
    "start_time": "2021-09-17T11:40:50.458Z"
   },
   {
    "duration": 1304,
    "start_time": "2021-09-17T11:41:48.370Z"
   },
   {
    "duration": 29,
    "start_time": "2021-09-17T11:42:03.475Z"
   },
   {
    "duration": 102,
    "start_time": "2021-09-17T11:42:20.960Z"
   },
   {
    "duration": 110,
    "start_time": "2021-09-17T11:42:34.384Z"
   },
   {
    "duration": 95,
    "start_time": "2021-09-17T11:42:50.399Z"
   },
   {
    "duration": 102,
    "start_time": "2021-09-17T11:43:10.458Z"
   },
   {
    "duration": 92,
    "start_time": "2021-09-17T11:43:20.476Z"
   },
   {
    "duration": 101,
    "start_time": "2021-09-17T11:43:34.688Z"
   },
   {
    "duration": 90,
    "start_time": "2021-09-17T11:43:43.998Z"
   },
   {
    "duration": 7508,
    "start_time": "2021-09-17T11:45:34.465Z"
   },
   {
    "duration": 23,
    "start_time": "2021-09-17T11:46:02.706Z"
   },
   {
    "duration": 8625,
    "start_time": "2021-09-17T11:46:14.182Z"
   },
   {
    "duration": 73,
    "start_time": "2021-09-17T11:46:27.416Z"
   },
   {
    "duration": 73,
    "start_time": "2021-09-17T11:46:35.075Z"
   },
   {
    "duration": 75,
    "start_time": "2021-09-17T11:46:50.262Z"
   },
   {
    "duration": 79,
    "start_time": "2021-09-17T11:47:05.621Z"
   },
   {
    "duration": 364,
    "start_time": "2021-09-17T11:48:12.029Z"
   },
   {
    "duration": 331,
    "start_time": "2021-09-17T11:48:49.730Z"
   },
   {
    "duration": 97,
    "start_time": "2021-09-17T11:49:34.068Z"
   },
   {
    "duration": 167,
    "start_time": "2021-09-17T11:50:54.133Z"
   },
   {
    "duration": 88,
    "start_time": "2021-09-17T11:51:44.632Z"
   },
   {
    "duration": 85,
    "start_time": "2021-09-17T11:52:43.431Z"
   },
   {
    "duration": 107,
    "start_time": "2021-09-17T11:58:07.130Z"
   },
   {
    "duration": 90,
    "start_time": "2021-09-17T11:58:18.237Z"
   },
   {
    "duration": 106,
    "start_time": "2021-09-17T11:59:59.584Z"
   },
   {
    "duration": 163,
    "start_time": "2021-09-17T12:00:07.568Z"
   },
   {
    "duration": 1474,
    "start_time": "2021-09-17T12:09:01.403Z"
   },
   {
    "duration": 497,
    "start_time": "2021-09-17T12:09:02.879Z"
   },
   {
    "duration": 34,
    "start_time": "2021-09-17T12:09:03.379Z"
   },
   {
    "duration": 120,
    "start_time": "2021-09-17T12:09:03.416Z"
   },
   {
    "duration": 32,
    "start_time": "2021-09-17T12:09:03.539Z"
   },
   {
    "duration": 124,
    "start_time": "2021-09-17T12:09:03.574Z"
   },
   {
    "duration": 23,
    "start_time": "2021-09-17T12:09:03.700Z"
   },
   {
    "duration": 120,
    "start_time": "2021-09-17T12:09:03.726Z"
   },
   {
    "duration": 4,
    "start_time": "2021-09-17T12:16:22.891Z"
   },
   {
    "duration": 23,
    "start_time": "2021-09-17T12:20:48.744Z"
   },
   {
    "duration": 25,
    "start_time": "2021-09-17T12:22:57.759Z"
   },
   {
    "duration": 1633,
    "start_time": "2021-09-20T09:03:29.501Z"
   },
   {
    "duration": 459,
    "start_time": "2021-09-20T09:03:31.136Z"
   },
   {
    "duration": 459,
    "start_time": "2021-09-20T09:03:36.771Z"
   },
   {
    "duration": 33,
    "start_time": "2021-09-20T09:03:38.643Z"
   },
   {
    "duration": 81,
    "start_time": "2021-09-20T09:03:41.123Z"
   },
   {
    "duration": 22,
    "start_time": "2021-09-20T09:03:43.787Z"
   },
   {
    "duration": 78,
    "start_time": "2021-09-20T09:04:13.637Z"
   },
   {
    "duration": 22,
    "start_time": "2021-09-20T09:06:20.491Z"
   },
   {
    "duration": 76,
    "start_time": "2021-09-20T09:06:27.540Z"
   },
   {
    "duration": 22,
    "start_time": "2021-09-20T09:06:34.809Z"
   },
   {
    "duration": 85,
    "start_time": "2021-09-20T09:07:22.630Z"
   },
   {
    "duration": 24,
    "start_time": "2021-09-20T09:08:56.891Z"
   },
   {
    "duration": 3,
    "start_time": "2021-09-20T09:18:26.177Z"
   },
   {
    "duration": 1377,
    "start_time": "2021-09-24T09:40:53.582Z"
   },
   {
    "duration": 489,
    "start_time": "2021-09-24T09:40:54.962Z"
   },
   {
    "duration": 35,
    "start_time": "2021-09-24T09:40:55.625Z"
   },
   {
    "duration": 98,
    "start_time": "2021-09-24T09:40:55.941Z"
   },
   {
    "duration": 22,
    "start_time": "2021-09-24T09:40:56.820Z"
   },
   {
    "duration": 77,
    "start_time": "2021-09-24T09:40:57.400Z"
   },
   {
    "duration": 23,
    "start_time": "2021-09-24T09:40:58.077Z"
   },
   {
    "duration": 79,
    "start_time": "2021-09-24T09:40:58.692Z"
   },
   {
    "duration": 26,
    "start_time": "2021-09-24T09:41:02.440Z"
   },
   {
    "duration": 461,
    "start_time": "2021-09-24T09:41:29.405Z"
   },
   {
    "duration": 374,
    "start_time": "2021-09-24T09:42:16.768Z"
   },
   {
    "duration": 824,
    "start_time": "2021-09-24T09:43:11.175Z"
   },
   {
    "duration": 406,
    "start_time": "2021-09-24T09:45:41.510Z"
   },
   {
    "duration": 17,
    "start_time": "2021-09-24T09:46:13.596Z"
   },
   {
    "duration": 19,
    "start_time": "2021-09-24T09:46:38.955Z"
   },
   {
    "duration": 19,
    "start_time": "2021-09-24T09:46:56.467Z"
   },
   {
    "duration": 21,
    "start_time": "2021-09-24T09:47:12.323Z"
   },
   {
    "duration": 22,
    "start_time": "2021-09-24T09:47:13.049Z"
   },
   {
    "duration": 25,
    "start_time": "2021-09-24T09:47:41.048Z"
   },
   {
    "duration": 26,
    "start_time": "2021-09-24T09:50:39.524Z"
   },
   {
    "duration": 16,
    "start_time": "2021-09-24T09:50:41.711Z"
   },
   {
    "duration": 15,
    "start_time": "2021-09-24T09:50:52.157Z"
   },
   {
    "duration": 775,
    "start_time": "2021-09-24T09:51:09.263Z"
   },
   {
    "duration": 16,
    "start_time": "2021-09-24T09:51:15.512Z"
   },
   {
    "duration": 58,
    "start_time": "2021-09-24T09:51:40.312Z"
   },
   {
    "duration": 69,
    "start_time": "2021-09-24T09:52:53.599Z"
   },
   {
    "duration": 421,
    "start_time": "2021-09-24T09:53:22.823Z"
   },
   {
    "duration": 170,
    "start_time": "2021-09-24T09:53:30.746Z"
   },
   {
    "duration": 433,
    "start_time": "2021-09-24T09:53:33.026Z"
   },
   {
    "duration": 19,
    "start_time": "2021-09-24T09:55:49.085Z"
   },
   {
    "duration": 403,
    "start_time": "2021-09-24T09:55:57.533Z"
   },
   {
    "duration": 443,
    "start_time": "2021-09-24T09:56:08.680Z"
   },
   {
    "duration": 43,
    "start_time": "2021-09-24T09:56:50.333Z"
   },
   {
    "duration": 64,
    "start_time": "2021-09-24T09:57:52.507Z"
   },
   {
    "duration": 76,
    "start_time": "2021-09-24T09:59:29.600Z"
   },
   {
    "duration": 106,
    "start_time": "2021-09-24T09:59:30.564Z"
   },
   {
    "duration": 51,
    "start_time": "2021-09-24T09:59:31.326Z"
   },
   {
    "duration": 49,
    "start_time": "2021-09-24T09:59:32.021Z"
   },
   {
    "duration": 335,
    "start_time": "2021-09-24T10:05:36.751Z"
   },
   {
    "duration": 7,
    "start_time": "2021-09-24T10:05:44.882Z"
   },
   {
    "duration": 425,
    "start_time": "2021-09-24T10:05:47.448Z"
   },
   {
    "duration": 7,
    "start_time": "2021-09-24T10:06:50.003Z"
   },
   {
    "duration": 71,
    "start_time": "2021-09-24T10:06:52.903Z"
   },
   {
    "duration": 7,
    "start_time": "2021-09-24T10:07:57.174Z"
   },
   {
    "duration": 35,
    "start_time": "2021-09-24T10:08:00.068Z"
   },
   {
    "duration": 4,
    "start_time": "2021-09-24T10:08:11.874Z"
   },
   {
    "duration": 5,
    "start_time": "2021-09-24T10:08:20.606Z"
   },
   {
    "duration": 6,
    "start_time": "2021-09-24T10:09:13.544Z"
   },
   {
    "duration": 104,
    "start_time": "2021-09-24T10:09:15.966Z"
   },
   {
    "duration": 5,
    "start_time": "2021-09-24T10:09:21.914Z"
   },
   {
    "duration": 113,
    "start_time": "2021-09-24T10:11:23.353Z"
   },
   {
    "duration": 5,
    "start_time": "2021-09-24T10:11:28.689Z"
   },
   {
    "duration": 84,
    "start_time": "2021-09-24T10:16:17.583Z"
   },
   {
    "duration": 30,
    "start_time": "2021-09-24T10:16:36.652Z"
   },
   {
    "duration": 33,
    "start_time": "2021-09-24T10:16:54.987Z"
   },
   {
    "duration": 32,
    "start_time": "2021-09-24T10:17:00.832Z"
   },
   {
    "duration": 466,
    "start_time": "2021-09-24T10:18:35.840Z"
   },
   {
    "duration": 23,
    "start_time": "2021-09-24T10:18:37.957Z"
   },
   {
    "duration": 87,
    "start_time": "2021-09-24T10:18:52.556Z"
   },
   {
    "duration": 35,
    "start_time": "2021-09-24T10:19:56.070Z"
   },
   {
    "duration": 102,
    "start_time": "2021-09-24T10:22:02.468Z"
   },
   {
    "duration": 56,
    "start_time": "2021-09-24T10:23:21.814Z"
   },
   {
    "duration": 71,
    "start_time": "2021-09-24T10:23:31.196Z"
   },
   {
    "duration": 33,
    "start_time": "2021-09-24T10:56:13.877Z"
   },
   {
    "duration": 110,
    "start_time": "2021-09-24T10:56:20.557Z"
   },
   {
    "duration": 32,
    "start_time": "2021-09-24T10:56:28.362Z"
   },
   {
    "duration": 32,
    "start_time": "2021-09-24T10:57:10.805Z"
   },
   {
    "duration": 33,
    "start_time": "2021-09-24T10:58:46.469Z"
   },
   {
    "duration": 32,
    "start_time": "2021-09-24T11:00:13.771Z"
   },
   {
    "duration": 34,
    "start_time": "2021-09-24T11:00:35.561Z"
   },
   {
    "duration": 31,
    "start_time": "2021-09-24T11:01:12.490Z"
   },
   {
    "duration": 31,
    "start_time": "2021-09-24T11:02:33.446Z"
   },
   {
    "duration": 93,
    "start_time": "2021-09-24T11:03:34.275Z"
   },
   {
    "duration": 1420,
    "start_time": "2021-09-24T11:13:32.766Z"
   },
   {
    "duration": 463,
    "start_time": "2021-09-24T11:13:34.189Z"
   },
   {
    "duration": 38,
    "start_time": "2021-09-24T11:13:34.655Z"
   },
   {
    "duration": 105,
    "start_time": "2021-09-24T11:13:34.695Z"
   },
   {
    "duration": 23,
    "start_time": "2021-09-24T11:13:34.803Z"
   },
   {
    "duration": 97,
    "start_time": "2021-09-24T11:13:34.828Z"
   },
   {
    "duration": 43,
    "start_time": "2021-09-24T11:13:34.927Z"
   },
   {
    "duration": 94,
    "start_time": "2021-09-24T11:13:34.973Z"
   },
   {
    "duration": 101,
    "start_time": "2021-09-24T11:13:35.070Z"
   },
   {
    "duration": 193,
    "start_time": "2021-09-24T11:13:35.174Z"
   },
   {
    "duration": 199,
    "start_time": "2021-09-24T11:13:35.371Z"
   },
   {
    "duration": 4,
    "start_time": "2021-09-24T11:20:11.356Z"
   },
   {
    "duration": 98,
    "start_time": "2021-09-24T11:20:25.769Z"
   },
   {
    "duration": 17,
    "start_time": "2021-09-24T11:21:26.867Z"
   },
   {
    "duration": 17,
    "start_time": "2021-09-24T11:21:37.215Z"
   },
   {
    "duration": 7,
    "start_time": "2021-09-24T11:30:26.266Z"
   },
   {
    "duration": 37,
    "start_time": "2021-09-24T11:30:42.500Z"
   },
   {
    "duration": 36,
    "start_time": "2021-09-24T11:30:47.797Z"
   },
   {
    "duration": 34,
    "start_time": "2021-09-24T11:30:51.591Z"
   },
   {
    "duration": 4,
    "start_time": "2021-09-24T12:01:38.578Z"
   },
   {
    "duration": 474,
    "start_time": "2021-09-24T12:02:20.057Z"
   },
   {
    "duration": 7,
    "start_time": "2021-09-24T12:02:36.611Z"
   },
   {
    "duration": 52,
    "start_time": "2021-09-24T12:02:43.715Z"
   },
   {
    "duration": 481,
    "start_time": "2021-09-24T12:03:09.562Z"
   },
   {
    "duration": 6,
    "start_time": "2021-09-24T12:05:50.153Z"
   },
   {
    "duration": 33,
    "start_time": "2021-09-24T12:05:54.692Z"
   },
   {
    "duration": 33,
    "start_time": "2021-09-24T12:05:58.311Z"
   },
   {
    "duration": 7,
    "start_time": "2021-09-24T12:06:26.063Z"
   },
   {
    "duration": 36,
    "start_time": "2021-09-24T12:06:28.380Z"
   },
   {
    "duration": 36,
    "start_time": "2021-09-24T12:06:51.650Z"
   },
   {
    "duration": 6,
    "start_time": "2021-09-24T12:09:19.581Z"
   },
   {
    "duration": 936,
    "start_time": "2021-09-24T12:09:27.708Z"
   },
   {
    "duration": 6,
    "start_time": "2021-09-24T12:09:58.037Z"
   },
   {
    "duration": 56,
    "start_time": "2021-09-24T12:10:01.011Z"
   },
   {
    "duration": 1345,
    "start_time": "2021-09-28T08:23:18.145Z"
   },
   {
    "duration": 4,
    "start_time": "2021-09-28T08:23:54.877Z"
   },
   {
    "duration": 10146,
    "start_time": "2021-09-28T08:23:55.535Z"
   },
   {
    "duration": 36,
    "start_time": "2021-09-28T08:24:05.684Z"
   },
   {
    "duration": 104,
    "start_time": "2021-09-28T08:24:08.511Z"
   },
   {
    "duration": 23,
    "start_time": "2021-09-28T08:24:10.092Z"
   },
   {
    "duration": 87,
    "start_time": "2021-09-28T08:24:11.531Z"
   },
   {
    "duration": 30,
    "start_time": "2021-09-28T08:24:15.435Z"
   },
   {
    "duration": 82,
    "start_time": "2021-09-28T08:24:17.080Z"
   },
   {
    "duration": 110,
    "start_time": "2021-09-28T08:25:05.161Z"
   },
   {
    "duration": 519,
    "start_time": "2021-09-28T08:25:30.817Z"
   },
   {
    "duration": 85,
    "start_time": "2021-09-28T08:25:54.061Z"
   },
   {
    "duration": 6,
    "start_time": "2021-09-28T08:29:42.919Z"
   },
   {
    "duration": 644,
    "start_time": "2021-09-28T08:30:51.694Z"
   },
   {
    "duration": 468,
    "start_time": "2021-09-28T08:31:52.557Z"
   },
   {
    "duration": 25,
    "start_time": "2021-09-28T08:32:16.772Z"
   },
   {
    "duration": 79,
    "start_time": "2021-09-28T08:32:34.484Z"
   },
   {
    "duration": 24,
    "start_time": "2021-09-28T08:32:56.081Z"
   },
   {
    "duration": 119,
    "start_time": "2021-09-28T08:33:17.283Z"
   },
   {
    "duration": 24,
    "start_time": "2021-09-28T08:33:39.161Z"
   },
   {
    "duration": 132,
    "start_time": "2021-09-28T08:33:59.290Z"
   },
   {
    "duration": 6,
    "start_time": "2021-09-28T08:34:05.937Z"
   },
   {
    "duration": 127,
    "start_time": "2021-09-28T08:34:13.032Z"
   },
   {
    "duration": 8,
    "start_time": "2021-09-28T08:36:44.662Z"
   },
   {
    "duration": 111,
    "start_time": "2021-09-28T08:36:53.947Z"
   },
   {
    "duration": 6,
    "start_time": "2021-09-28T08:37:04.554Z"
   },
   {
    "duration": 563,
    "start_time": "2021-09-28T08:37:07.597Z"
   },
   {
    "duration": 9,
    "start_time": "2021-09-28T08:37:42.152Z"
   },
   {
    "duration": 674,
    "start_time": "2021-09-28T08:37:44.445Z"
   },
   {
    "duration": 6,
    "start_time": "2021-09-28T08:38:46.276Z"
   },
   {
    "duration": 638,
    "start_time": "2021-09-28T08:38:48.389Z"
   },
   {
    "duration": 623,
    "start_time": "2021-09-28T08:39:50.689Z"
   },
   {
    "duration": 6,
    "start_time": "2021-09-28T08:40:09.470Z"
   },
   {
    "duration": 37,
    "start_time": "2021-09-28T08:40:11.625Z"
   },
   {
    "duration": 49,
    "start_time": "2021-09-28T08:41:16.041Z"
   },
   {
    "duration": 7,
    "start_time": "2021-09-28T08:42:47.711Z"
   },
   {
    "duration": 105,
    "start_time": "2021-09-28T08:42:55.553Z"
   },
   {
    "duration": 7,
    "start_time": "2021-09-28T08:49:07.288Z"
   },
   {
    "duration": 5344,
    "start_time": "2021-09-28T08:49:10.398Z"
   },
   {
    "duration": 7,
    "start_time": "2021-09-28T08:50:20.981Z"
   },
   {
    "duration": 84,
    "start_time": "2021-09-28T08:50:24.380Z"
   },
   {
    "duration": 6,
    "start_time": "2021-09-28T08:51:24.436Z"
   },
   {
    "duration": 6,
    "start_time": "2021-09-28T08:51:28.227Z"
   },
   {
    "duration": 634,
    "start_time": "2021-09-28T08:51:42.896Z"
   },
   {
    "duration": 4,
    "start_time": "2021-09-28T08:58:52.613Z"
   },
   {
    "duration": 10,
    "start_time": "2021-09-28T08:59:31.774Z"
   },
   {
    "duration": 691,
    "start_time": "2021-09-28T08:59:35.807Z"
   },
   {
    "duration": 746,
    "start_time": "2021-09-28T09:00:03.690Z"
   },
   {
    "duration": 9,
    "start_time": "2021-09-28T09:00:06.074Z"
   },
   {
    "duration": 57,
    "start_time": "2021-09-28T09:00:10.503Z"
   },
   {
    "duration": 6,
    "start_time": "2021-09-28T09:00:26.841Z"
   },
   {
    "duration": 32,
    "start_time": "2021-09-28T09:00:29.575Z"
   },
   {
    "duration": 330,
    "start_time": "2021-09-28T09:00:58.518Z"
   },
   {
    "duration": 7,
    "start_time": "2021-09-28T09:01:05.262Z"
   },
   {
    "duration": 31,
    "start_time": "2021-09-28T09:01:07.935Z"
   },
   {
    "duration": 9,
    "start_time": "2021-09-28T09:05:02.209Z"
   },
   {
    "duration": 6,
    "start_time": "2021-09-28T09:05:40.048Z"
   },
   {
    "duration": 87,
    "start_time": "2021-09-28T09:05:42.476Z"
   },
   {
    "duration": 102,
    "start_time": "2021-09-28T09:05:53.178Z"
   },
   {
    "duration": 10,
    "start_time": "2021-09-28T09:06:21.224Z"
   },
   {
    "duration": 154,
    "start_time": "2021-09-28T09:11:53.520Z"
   },
   {
    "duration": 188,
    "start_time": "2021-09-28T09:11:58.694Z"
   },
   {
    "duration": 6,
    "start_time": "2021-09-28T10:29:04.305Z"
   },
   {
    "duration": 361,
    "start_time": "2021-09-28T10:29:32.783Z"
   },
   {
    "duration": 7,
    "start_time": "2021-09-28T10:29:47.235Z"
   },
   {
    "duration": 376,
    "start_time": "2021-09-28T10:29:50.279Z"
   },
   {
    "duration": 198,
    "start_time": "2021-09-28T10:30:16.178Z"
   },
   {
    "duration": 33,
    "start_time": "2021-09-28T10:30:53.734Z"
   },
   {
    "duration": 108,
    "start_time": "2021-09-28T10:36:54.751Z"
   },
   {
    "duration": 29,
    "start_time": "2021-09-28T10:51:54.063Z"
   },
   {
    "duration": 5,
    "start_time": "2021-09-28T10:51:56.577Z"
   },
   {
    "duration": 6,
    "start_time": "2021-09-28T10:52:46.493Z"
   },
   {
    "duration": 28,
    "start_time": "2021-09-28T10:52:49.279Z"
   },
   {
    "duration": 6,
    "start_time": "2021-09-28T10:52:51.419Z"
   },
   {
    "duration": 7,
    "start_time": "2021-09-28T10:53:30.271Z"
   },
   {
    "duration": 29,
    "start_time": "2021-09-28T10:53:51.907Z"
   },
   {
    "duration": 6,
    "start_time": "2021-09-28T10:54:16.124Z"
   },
   {
    "duration": 28,
    "start_time": "2021-09-28T10:54:42.340Z"
   },
   {
    "duration": 5,
    "start_time": "2021-09-28T10:55:02.625Z"
   },
   {
    "duration": 363,
    "start_time": "2021-09-28T11:18:41.990Z"
   },
   {
    "duration": 282,
    "start_time": "2021-09-28T11:19:10.691Z"
   },
   {
    "duration": 268,
    "start_time": "2021-09-28T11:19:26.612Z"
   },
   {
    "duration": 5,
    "start_time": "2021-09-28T11:19:56.682Z"
   },
   {
    "duration": 13,
    "start_time": "2021-09-28T11:20:34.222Z"
   },
   {
    "duration": 15,
    "start_time": "2021-09-28T11:21:01.346Z"
   },
   {
    "duration": 14,
    "start_time": "2021-09-28T11:22:02.670Z"
   },
   {
    "duration": 14,
    "start_time": "2021-09-28T11:22:32.170Z"
   },
   {
    "duration": 14,
    "start_time": "2021-09-28T11:23:02.909Z"
   },
   {
    "duration": 15,
    "start_time": "2021-09-28T11:23:21.009Z"
   },
   {
    "duration": 15,
    "start_time": "2021-09-28T11:24:51.532Z"
   },
   {
    "duration": 15,
    "start_time": "2021-09-28T11:25:09.871Z"
   },
   {
    "duration": 14,
    "start_time": "2021-09-28T11:25:32.988Z"
   },
   {
    "duration": 15,
    "start_time": "2021-09-28T11:25:47.546Z"
   },
   {
    "duration": 15,
    "start_time": "2021-09-28T11:25:52.194Z"
   },
   {
    "duration": 300,
    "start_time": "2021-09-28T11:30:13.547Z"
   },
   {
    "duration": 313,
    "start_time": "2021-09-28T11:30:25.686Z"
   },
   {
    "duration": 323,
    "start_time": "2021-09-28T11:30:34.863Z"
   },
   {
    "duration": 14,
    "start_time": "2021-09-28T11:30:51.262Z"
   },
   {
    "duration": 14,
    "start_time": "2021-09-28T11:31:11.989Z"
   },
   {
    "duration": 342,
    "start_time": "2021-09-28T11:32:01.805Z"
   },
   {
    "duration": 15,
    "start_time": "2021-09-28T11:32:38.502Z"
   },
   {
    "duration": 423,
    "start_time": "2021-09-28T11:32:50.682Z"
   },
   {
    "duration": 11,
    "start_time": "2021-09-28T11:32:59.841Z"
   },
   {
    "duration": 14,
    "start_time": "2021-09-28T11:33:25.134Z"
   },
   {
    "duration": 13,
    "start_time": "2021-09-28T11:33:38.338Z"
   },
   {
    "duration": 12,
    "start_time": "2021-09-28T11:34:59.249Z"
   },
   {
    "duration": 13,
    "start_time": "2021-09-28T11:35:40.843Z"
   },
   {
    "duration": 16,
    "start_time": "2021-09-28T11:36:15.661Z"
   },
   {
    "duration": 13,
    "start_time": "2021-09-28T11:36:28.115Z"
   },
   {
    "duration": 14,
    "start_time": "2021-09-28T11:36:31.445Z"
   },
   {
    "duration": 13,
    "start_time": "2021-09-28T11:37:26.323Z"
   },
   {
    "duration": 13,
    "start_time": "2021-09-28T11:37:42.407Z"
   },
   {
    "duration": 13,
    "start_time": "2021-09-28T11:37:58.709Z"
   },
   {
    "duration": 13,
    "start_time": "2021-09-28T11:44:11.731Z"
   },
   {
    "duration": 13,
    "start_time": "2021-09-28T11:44:27.039Z"
   },
   {
    "duration": 4,
    "start_time": "2021-09-28T12:24:10.515Z"
   },
   {
    "duration": 5,
    "start_time": "2021-09-28T12:30:19.916Z"
   },
   {
    "duration": 9,
    "start_time": "2021-09-28T15:56:27.529Z"
   },
   {
    "duration": 384,
    "start_time": "2021-09-28T16:05:32.212Z"
   },
   {
    "duration": 316,
    "start_time": "2021-09-28T16:05:52.434Z"
   },
   {
    "duration": 6,
    "start_time": "2021-09-28T16:06:01.972Z"
   },
   {
    "duration": 322,
    "start_time": "2021-09-28T16:06:12.561Z"
   },
   {
    "duration": 5,
    "start_time": "2021-09-28T16:07:23.973Z"
   },
   {
    "duration": 20,
    "start_time": "2021-09-28T16:12:35.959Z"
   },
   {
    "duration": 11,
    "start_time": "2021-09-28T16:12:56.099Z"
   },
   {
    "duration": 10,
    "start_time": "2021-09-28T16:13:22.117Z"
   },
   {
    "duration": 11,
    "start_time": "2021-09-28T16:13:49.809Z"
   },
   {
    "duration": 1312,
    "start_time": "2021-09-30T15:45:32.414Z"
   },
   {
    "duration": 464,
    "start_time": "2021-09-30T15:45:34.323Z"
   },
   {
    "duration": 116,
    "start_time": "2021-09-30T15:45:40.900Z"
   },
   {
    "duration": 151,
    "start_time": "2021-09-30T15:45:59.173Z"
   },
   {
    "duration": 35,
    "start_time": "2021-09-30T15:46:54.337Z"
   },
   {
    "duration": 16,
    "start_time": "2021-09-30T15:48:25.309Z"
   },
   {
    "duration": 18,
    "start_time": "2021-09-30T15:48:37.127Z"
   },
   {
    "duration": 16,
    "start_time": "2021-09-30T15:48:41.430Z"
   },
   {
    "duration": 16,
    "start_time": "2021-09-30T15:48:49.855Z"
   },
   {
    "duration": 16,
    "start_time": "2021-09-30T15:48:54.031Z"
   },
   {
    "duration": 16,
    "start_time": "2021-09-30T15:48:58.455Z"
   },
   {
    "duration": 17,
    "start_time": "2021-09-30T15:49:08.239Z"
   },
   {
    "duration": 19,
    "start_time": "2021-09-30T15:49:12.208Z"
   },
   {
    "duration": 17,
    "start_time": "2021-09-30T15:49:20.849Z"
   },
   {
    "duration": 22,
    "start_time": "2021-09-30T15:49:26.113Z"
   },
   {
    "duration": 16,
    "start_time": "2021-09-30T15:49:30.649Z"
   },
   {
    "duration": 17,
    "start_time": "2021-09-30T15:49:38.106Z"
   },
   {
    "duration": 18,
    "start_time": "2021-09-30T15:49:42.713Z"
   },
   {
    "duration": 16,
    "start_time": "2021-09-30T15:49:46.330Z"
   },
   {
    "duration": 17,
    "start_time": "2021-09-30T15:49:49.770Z"
   },
   {
    "duration": 16,
    "start_time": "2021-09-30T15:49:52.826Z"
   },
   {
    "duration": 15,
    "start_time": "2021-09-30T15:50:08.507Z"
   },
   {
    "duration": 16,
    "start_time": "2021-09-30T15:50:13.179Z"
   },
   {
    "duration": 17,
    "start_time": "2021-09-30T15:50:31.012Z"
   },
   {
    "duration": 17,
    "start_time": "2021-09-30T15:50:34.356Z"
   },
   {
    "duration": 16,
    "start_time": "2021-09-30T15:50:37.909Z"
   },
   {
    "duration": 16,
    "start_time": "2021-09-30T15:50:42.045Z"
   },
   {
    "duration": 16,
    "start_time": "2021-09-30T15:50:50.966Z"
   },
   {
    "duration": 17,
    "start_time": "2021-09-30T15:51:19.631Z"
   },
   {
    "duration": 15,
    "start_time": "2021-09-30T15:52:10.034Z"
   },
   {
    "duration": 16,
    "start_time": "2021-09-30T15:52:36.235Z"
   },
   {
    "duration": 17,
    "start_time": "2021-09-30T15:52:41.483Z"
   },
   {
    "duration": 17,
    "start_time": "2021-09-30T15:52:47.036Z"
   },
   {
    "duration": 17,
    "start_time": "2021-09-30T15:52:52.140Z"
   },
   {
    "duration": 15,
    "start_time": "2021-09-30T15:53:10.333Z"
   },
   {
    "duration": 4,
    "start_time": "2021-09-30T16:09:20.955Z"
   },
   {
    "duration": 5,
    "start_time": "2021-09-30T16:09:23.970Z"
   },
   {
    "duration": 4,
    "start_time": "2021-09-30T16:09:29.747Z"
   },
   {
    "duration": 16,
    "start_time": "2021-09-30T16:10:58.320Z"
   },
   {
    "duration": 4,
    "start_time": "2021-09-30T17:13:12.101Z"
   },
   {
    "duration": 480,
    "start_time": "2021-09-30T17:13:13.708Z"
   },
   {
    "duration": 27,
    "start_time": "2021-09-30T17:13:15.197Z"
   },
   {
    "duration": 89,
    "start_time": "2021-09-30T17:13:16.133Z"
   },
   {
    "duration": 23,
    "start_time": "2021-09-30T17:13:16.973Z"
   },
   {
    "duration": 74,
    "start_time": "2021-09-30T17:13:17.525Z"
   },
   {
    "duration": 23,
    "start_time": "2021-09-30T17:13:18.133Z"
   },
   {
    "duration": 76,
    "start_time": "2021-09-30T17:13:18.637Z"
   },
   {
    "duration": 7,
    "start_time": "2021-09-30T17:13:22.893Z"
   },
   {
    "duration": 93,
    "start_time": "2021-09-30T17:13:24.324Z"
   },
   {
    "duration": 5,
    "start_time": "2021-09-30T17:13:24.973Z"
   },
   {
    "duration": 30,
    "start_time": "2021-09-30T17:13:26.292Z"
   },
   {
    "duration": 6,
    "start_time": "2021-09-30T17:13:27.893Z"
   },
   {
    "duration": 28,
    "start_time": "2021-09-30T17:13:29.221Z"
   },
   {
    "duration": 5,
    "start_time": "2021-09-30T17:13:31.662Z"
   },
   {
    "duration": 5,
    "start_time": "2021-09-30T17:13:40.637Z"
   },
   {
    "duration": 5,
    "start_time": "2021-09-30T17:13:41.421Z"
   },
   {
    "duration": 34,
    "start_time": "2021-09-30T17:13:42.750Z"
   },
   {
    "duration": 9,
    "start_time": "2021-09-30T17:13:44.253Z"
   },
   {
    "duration": 17,
    "start_time": "2021-09-30T17:13:46.246Z"
   },
   {
    "duration": 4,
    "start_time": "2021-09-30T17:38:33.609Z"
   },
   {
    "duration": 754,
    "start_time": "2021-09-30T17:46:31.907Z"
   },
   {
    "duration": 4,
    "start_time": "2021-09-30T17:46:51.411Z"
   },
   {
    "duration": 27,
    "start_time": "2021-09-30T17:46:53.539Z"
   },
   {
    "duration": 4,
    "start_time": "2021-09-30T17:49:56.446Z"
   },
   {
    "duration": 4,
    "start_time": "2021-09-30T17:59:05.820Z"
   },
   {
    "duration": 4,
    "start_time": "2021-09-30T18:01:15.931Z"
   },
   {
    "duration": 192,
    "start_time": "2021-09-30T18:01:24.962Z"
   },
   {
    "duration": 29,
    "start_time": "2021-09-30T18:01:29.898Z"
   },
   {
    "duration": 5,
    "start_time": "2021-09-30T18:01:44.996Z"
   },
   {
    "duration": 29,
    "start_time": "2021-09-30T18:01:48.053Z"
   },
   {
    "duration": 5,
    "start_time": "2021-09-30T18:01:57.988Z"
   },
   {
    "duration": 30,
    "start_time": "2021-09-30T18:02:01.452Z"
   },
   {
    "duration": 5,
    "start_time": "2021-09-30T18:02:23.406Z"
   },
   {
    "duration": 26,
    "start_time": "2021-09-30T18:02:25.334Z"
   },
   {
    "duration": 3,
    "start_time": "2021-09-30T18:05:07.984Z"
   },
   {
    "duration": 5,
    "start_time": "2021-09-30T18:05:09.351Z"
   },
   {
    "duration": 27,
    "start_time": "2021-09-30T18:05:10.648Z"
   },
   {
    "duration": 5,
    "start_time": "2021-09-30T18:05:21.800Z"
   },
   {
    "duration": 29,
    "start_time": "2021-09-30T18:05:23.200Z"
   },
   {
    "duration": 7,
    "start_time": "2021-09-30T18:06:54.910Z"
   },
   {
    "duration": 645,
    "start_time": "2021-09-30T18:07:34.503Z"
   },
   {
    "duration": 7,
    "start_time": "2021-09-30T18:07:59.601Z"
   },
   {
    "duration": 9985,
    "start_time": "2021-09-30T18:08:00.889Z"
   },
   {
    "duration": 125,
    "start_time": "2021-09-30T18:19:40.776Z"
   },
   {
    "duration": 9942,
    "start_time": "2021-09-30T18:19:49.145Z"
   },
   {
    "duration": 9742,
    "start_time": "2021-09-30T18:22:38.497Z"
   },
   {
    "duration": 9720,
    "start_time": "2021-09-30T18:23:47.141Z"
   },
   {
    "duration": 9,
    "start_time": "2021-09-30T18:55:45.710Z"
   },
   {
    "duration": 9883,
    "start_time": "2021-09-30T18:55:52.461Z"
   },
   {
    "duration": 7,
    "start_time": "2021-09-30T18:56:20.439Z"
   },
   {
    "duration": 7,
    "start_time": "2021-09-30T18:56:35.983Z"
   },
   {
    "duration": 10101,
    "start_time": "2021-09-30T18:56:38.776Z"
   },
   {
    "duration": 7,
    "start_time": "2021-09-30T19:37:38.672Z"
   },
   {
    "duration": 9575,
    "start_time": "2021-09-30T19:37:43.904Z"
   },
   {
    "duration": 7,
    "start_time": "2021-09-30T19:38:03.896Z"
   },
   {
    "duration": 9776,
    "start_time": "2021-09-30T19:38:06.442Z"
   },
   {
    "duration": 7,
    "start_time": "2021-09-30T19:44:45.286Z"
   },
   {
    "duration": 9797,
    "start_time": "2021-09-30T19:45:10.615Z"
   },
   {
    "duration": 9873,
    "start_time": "2021-09-30T19:45:25.536Z"
   },
   {
    "duration": 7,
    "start_time": "2021-09-30T19:46:26.435Z"
   },
   {
    "duration": 911,
    "start_time": "2021-09-30T19:46:31.644Z"
   },
   {
    "duration": 6,
    "start_time": "2021-09-30T19:58:35.133Z"
   },
   {
    "duration": 19492,
    "start_time": "2021-09-30T19:58:38.172Z"
   },
   {
    "duration": 7,
    "start_time": "2021-09-30T20:09:29.231Z"
   },
   {
    "duration": 19365,
    "start_time": "2021-09-30T20:09:33.152Z"
   },
   {
    "duration": 7,
    "start_time": "2021-09-30T20:11:35.335Z"
   },
   {
    "duration": 618,
    "start_time": "2021-09-30T20:11:38.111Z"
   },
   {
    "duration": 7,
    "start_time": "2021-09-30T20:12:19.185Z"
   },
   {
    "duration": 914,
    "start_time": "2021-09-30T20:12:21.633Z"
   },
   {
    "duration": 7,
    "start_time": "2021-09-30T20:12:43.834Z"
   },
   {
    "duration": 1064,
    "start_time": "2021-09-30T20:12:46.794Z"
   },
   {
    "duration": 6,
    "start_time": "2021-09-30T20:22:59.181Z"
   },
   {
    "duration": 9,
    "start_time": "2021-09-30T20:23:32.093Z"
   },
   {
    "duration": 7,
    "start_time": "2021-09-30T20:24:54.314Z"
   },
   {
    "duration": 5,
    "start_time": "2021-09-30T20:25:07.314Z"
   },
   {
    "duration": 6,
    "start_time": "2021-09-30T20:25:09.315Z"
   },
   {
    "duration": 1049,
    "start_time": "2021-09-30T20:25:11.532Z"
   },
   {
    "duration": 7,
    "start_time": "2021-09-30T20:26:10.782Z"
   },
   {
    "duration": 6,
    "start_time": "2021-09-30T20:28:06.965Z"
   },
   {
    "duration": 15544,
    "start_time": "2021-09-30T20:28:09.917Z"
   },
   {
    "duration": 7,
    "start_time": "2021-09-30T20:29:14.320Z"
   },
   {
    "duration": 15526,
    "start_time": "2021-09-30T20:29:17.223Z"
   },
   {
    "duration": 6,
    "start_time": "2021-09-30T20:30:21.420Z"
   },
   {
    "duration": 15372,
    "start_time": "2021-09-30T20:30:23.516Z"
   },
   {
    "duration": 7,
    "start_time": "2021-09-30T20:35:23.428Z"
   },
   {
    "duration": 15746,
    "start_time": "2021-09-30T20:35:25.477Z"
   },
   {
    "duration": 6,
    "start_time": "2021-09-30T20:37:48.037Z"
   },
   {
    "duration": 7,
    "start_time": "2021-09-30T20:37:56.005Z"
   },
   {
    "duration": 6,
    "start_time": "2021-09-30T20:38:03.590Z"
   },
   {
    "duration": 7,
    "start_time": "2021-09-30T20:38:09.126Z"
   },
   {
    "duration": 37,
    "start_time": "2021-09-30T20:38:11.293Z"
   },
   {
    "duration": 5,
    "start_time": "2021-09-30T20:38:14.438Z"
   },
   {
    "duration": 7,
    "start_time": "2021-09-30T20:38:18.150Z"
   },
   {
    "duration": 8,
    "start_time": "2021-09-30T20:38:38.079Z"
   },
   {
    "duration": 9,
    "start_time": "2021-09-30T20:38:54.376Z"
   },
   {
    "duration": 6,
    "start_time": "2021-09-30T20:39:23.698Z"
   },
   {
    "duration": 6,
    "start_time": "2021-09-30T20:39:30.658Z"
   },
   {
    "duration": 27,
    "start_time": "2021-09-30T20:39:32.650Z"
   },
   {
    "duration": 6,
    "start_time": "2021-09-30T20:39:38.123Z"
   },
   {
    "duration": 4,
    "start_time": "2021-09-30T20:40:45.462Z"
   },
   {
    "duration": 3,
    "start_time": "2021-09-30T20:40:47.886Z"
   },
   {
    "duration": 5,
    "start_time": "2021-09-30T20:40:50.862Z"
   },
   {
    "duration": 32,
    "start_time": "2021-09-30T20:40:56.366Z"
   },
   {
    "duration": 7,
    "start_time": "2021-09-30T20:41:05.431Z"
   },
   {
    "duration": 15857,
    "start_time": "2021-09-30T20:41:08.472Z"
   },
   {
    "duration": 119,
    "start_time": "2021-09-30T20:41:34.097Z"
   },
   {
    "duration": 31,
    "start_time": "2021-09-30T20:41:35.657Z"
   },
   {
    "duration": 7,
    "start_time": "2021-09-30T20:41:40.465Z"
   },
   {
    "duration": 15847,
    "start_time": "2021-09-30T20:41:41.489Z"
   },
   {
    "duration": 1474,
    "start_time": "2021-09-30T20:42:33.568Z"
   },
   {
    "duration": 485,
    "start_time": "2021-09-30T20:42:35.045Z"
   },
   {
    "duration": 34,
    "start_time": "2021-09-30T20:42:35.533Z"
   },
   {
    "duration": 109,
    "start_time": "2021-09-30T20:42:35.570Z"
   },
   {
    "duration": 35,
    "start_time": "2021-09-30T20:42:35.681Z"
   },
   {
    "duration": 81,
    "start_time": "2021-09-30T20:42:35.719Z"
   },
   {
    "duration": 36,
    "start_time": "2021-09-30T20:42:35.802Z"
   },
   {
    "duration": 104,
    "start_time": "2021-09-30T20:42:35.840Z"
   },
   {
    "duration": 7,
    "start_time": "2021-09-30T20:42:35.948Z"
   },
   {
    "duration": 70,
    "start_time": "2021-09-30T20:42:35.958Z"
   },
   {
    "duration": 98,
    "start_time": "2021-09-30T20:42:36.118Z"
   },
   {
    "duration": 7,
    "start_time": "2021-09-30T20:42:36.219Z"
   },
   {
    "duration": 89,
    "start_time": "2021-09-30T20:42:36.228Z"
   },
   {
    "duration": 98,
    "start_time": "2021-09-30T20:42:36.320Z"
   },
   {
    "duration": 35,
    "start_time": "2021-09-30T20:42:36.420Z"
   },
   {
    "duration": 95,
    "start_time": "2021-09-30T20:42:36.523Z"
   },
   {
    "duration": 8,
    "start_time": "2021-09-30T20:42:36.621Z"
   },
   {
    "duration": 9,
    "start_time": "2021-09-30T20:42:36.631Z"
   },
   {
    "duration": 42,
    "start_time": "2021-09-30T20:42:36.643Z"
   },
   {
    "duration": 11,
    "start_time": "2021-09-30T20:42:36.717Z"
   },
   {
    "duration": 18,
    "start_time": "2021-09-30T20:42:36.730Z"
   },
   {
    "duration": 3,
    "start_time": "2021-09-30T20:42:36.751Z"
   },
   {
    "duration": 6,
    "start_time": "2021-09-30T20:42:36.757Z"
   },
   {
    "duration": 72,
    "start_time": "2021-09-30T20:42:36.766Z"
   },
   {
    "duration": 7,
    "start_time": "2021-09-30T20:42:36.841Z"
   },
   {
    "duration": 16211,
    "start_time": "2021-09-30T20:42:36.850Z"
   },
   {
    "duration": 7,
    "start_time": "2021-09-30T20:52:50.709Z"
   },
   {
    "duration": 22741,
    "start_time": "2021-09-30T20:52:52.851Z"
   },
   {
    "duration": 36,
    "start_time": "2021-09-30T21:01:09.431Z"
   },
   {
    "duration": 6,
    "start_time": "2021-09-30T21:01:14.150Z"
   },
   {
    "duration": 6,
    "start_time": "2021-09-30T21:01:23.647Z"
   },
   {
    "duration": 37,
    "start_time": "2021-09-30T21:01:31.232Z"
   },
   {
    "duration": 7,
    "start_time": "2021-09-30T21:01:37.424Z"
   },
   {
    "duration": 37,
    "start_time": "2021-09-30T21:01:42.920Z"
   },
   {
    "duration": 7,
    "start_time": "2021-09-30T21:01:44.936Z"
   },
   {
    "duration": 10,
    "start_time": "2021-09-30T21:02:01.241Z"
   },
   {
    "duration": 18,
    "start_time": "2021-09-30T21:02:03.674Z"
   },
   {
    "duration": 4,
    "start_time": "2021-09-30T21:02:43.980Z"
   },
   {
    "duration": 5,
    "start_time": "2021-09-30T21:02:45.379Z"
   },
   {
    "duration": 29,
    "start_time": "2021-09-30T21:02:46.900Z"
   },
   {
    "duration": 6,
    "start_time": "2021-09-30T21:03:29.558Z"
   },
   {
    "duration": 29,
    "start_time": "2021-09-30T21:03:32.054Z"
   },
   {
    "duration": 5,
    "start_time": "2021-09-30T21:04:13.192Z"
   },
   {
    "duration": 33,
    "start_time": "2021-09-30T21:04:16.128Z"
   },
   {
    "duration": 4,
    "start_time": "2021-09-30T21:04:39.994Z"
   },
   {
    "duration": 28,
    "start_time": "2021-09-30T21:04:42.234Z"
   },
   {
    "duration": 4,
    "start_time": "2021-09-30T21:05:14.132Z"
   },
   {
    "duration": 26,
    "start_time": "2021-09-30T21:05:17.172Z"
   },
   {
    "duration": 4,
    "start_time": "2021-09-30T21:05:51.886Z"
   },
   {
    "duration": 29,
    "start_time": "2021-09-30T21:05:54.574Z"
   },
   {
    "duration": 5,
    "start_time": "2021-09-30T21:05:59.190Z"
   },
   {
    "duration": 28,
    "start_time": "2021-09-30T21:06:01.351Z"
   },
   {
    "duration": 5,
    "start_time": "2021-09-30T21:06:13.519Z"
   },
   {
    "duration": 28,
    "start_time": "2021-09-30T21:06:15.495Z"
   },
   {
    "duration": 17,
    "start_time": "2021-09-30T21:07:12.106Z"
   },
   {
    "duration": 13,
    "start_time": "2021-09-30T21:08:07.063Z"
   },
   {
    "duration": 7,
    "start_time": "2021-09-30T21:15:16.679Z"
   },
   {
    "duration": 4,
    "start_time": "2021-09-30T22:49:33.749Z"
   },
   {
    "duration": 7,
    "start_time": "2021-09-30T22:52:31.462Z"
   },
   {
    "duration": 15747,
    "start_time": "2021-09-30T22:52:34.094Z"
   },
   {
    "duration": 8,
    "start_time": "2021-09-30T22:54:12.787Z"
   },
   {
    "duration": 15906,
    "start_time": "2021-09-30T22:54:14.788Z"
   },
   {
    "duration": 1248,
    "start_time": "2021-09-30T22:59:37.470Z"
   },
   {
    "duration": 455,
    "start_time": "2021-09-30T22:59:38.720Z"
   },
   {
    "duration": 41,
    "start_time": "2021-09-30T22:59:39.182Z"
   },
   {
    "duration": 96,
    "start_time": "2021-09-30T22:59:39.225Z"
   },
   {
    "duration": 22,
    "start_time": "2021-09-30T22:59:39.323Z"
   },
   {
    "duration": 95,
    "start_time": "2021-09-30T22:59:39.348Z"
   },
   {
    "duration": 21,
    "start_time": "2021-09-30T22:59:39.446Z"
   },
   {
    "duration": 113,
    "start_time": "2021-09-30T22:59:39.471Z"
   },
   {
    "duration": 7,
    "start_time": "2021-09-30T22:59:39.589Z"
   },
   {
    "duration": 858,
    "start_time": "2021-09-30T22:59:39.599Z"
   },
   {
    "duration": 644,
    "start_time": "2021-09-30T22:59:39.816Z"
   },
   {
    "duration": 642,
    "start_time": "2021-09-30T22:59:39.819Z"
   },
   {
    "duration": 635,
    "start_time": "2021-09-30T22:59:39.828Z"
   },
   {
    "duration": 635,
    "start_time": "2021-09-30T22:59:39.829Z"
   },
   {
    "duration": 635,
    "start_time": "2021-09-30T22:59:39.831Z"
   },
   {
    "duration": 634,
    "start_time": "2021-09-30T22:59:39.833Z"
   },
   {
    "duration": 627,
    "start_time": "2021-09-30T22:59:39.841Z"
   },
   {
    "duration": 626,
    "start_time": "2021-09-30T22:59:39.843Z"
   },
   {
    "duration": 626,
    "start_time": "2021-09-30T22:59:39.845Z"
   },
   {
    "duration": 626,
    "start_time": "2021-09-30T22:59:39.846Z"
   },
   {
    "duration": 625,
    "start_time": "2021-09-30T22:59:39.848Z"
   },
   {
    "duration": 625,
    "start_time": "2021-09-30T22:59:39.850Z"
   },
   {
    "duration": 620,
    "start_time": "2021-09-30T22:59:39.856Z"
   },
   {
    "duration": 620,
    "start_time": "2021-09-30T22:59:39.859Z"
   },
   {
    "duration": 619,
    "start_time": "2021-09-30T22:59:39.861Z"
   },
   {
    "duration": 1316,
    "start_time": "2021-10-01T08:02:21.954Z"
   },
   {
    "duration": 490,
    "start_time": "2021-10-01T08:02:23.273Z"
   },
   {
    "duration": 35,
    "start_time": "2021-10-01T08:02:23.767Z"
   },
   {
    "duration": 109,
    "start_time": "2021-10-01T08:02:23.805Z"
   },
   {
    "duration": 49,
    "start_time": "2021-10-01T08:02:23.917Z"
   },
   {
    "duration": 104,
    "start_time": "2021-10-01T08:02:23.969Z"
   },
   {
    "duration": 24,
    "start_time": "2021-10-01T08:02:24.075Z"
   },
   {
    "duration": 115,
    "start_time": "2021-10-01T08:02:24.103Z"
   },
   {
    "duration": 7,
    "start_time": "2021-10-01T08:02:24.221Z"
   },
   {
    "duration": 964,
    "start_time": "2021-10-01T08:02:24.230Z"
   },
   {
    "duration": 95,
    "start_time": "2021-10-01T08:02:25.102Z"
   },
   {
    "duration": 95,
    "start_time": "2021-10-01T08:02:25.104Z"
   },
   {
    "duration": -18,
    "start_time": "2021-10-01T08:02:25.218Z"
   },
   {
    "duration": -20,
    "start_time": "2021-10-01T08:02:25.221Z"
   },
   {
    "duration": -19,
    "start_time": "2021-10-01T08:02:25.222Z"
   },
   {
    "duration": -19,
    "start_time": "2021-10-01T08:02:25.224Z"
   },
   {
    "duration": -19,
    "start_time": "2021-10-01T08:02:25.225Z"
   },
   {
    "duration": -19,
    "start_time": "2021-10-01T08:02:25.226Z"
   },
   {
    "duration": -18,
    "start_time": "2021-10-01T08:02:25.227Z"
   },
   {
    "duration": -18,
    "start_time": "2021-10-01T08:02:25.228Z"
   },
   {
    "duration": -18,
    "start_time": "2021-10-01T08:02:25.229Z"
   },
   {
    "duration": -20,
    "start_time": "2021-10-01T08:02:25.233Z"
   },
   {
    "duration": -19,
    "start_time": "2021-10-01T08:02:25.234Z"
   },
   {
    "duration": -19,
    "start_time": "2021-10-01T08:02:25.235Z"
   },
   {
    "duration": -19,
    "start_time": "2021-10-01T08:02:25.236Z"
   },
   {
    "duration": 4,
    "start_time": "2021-10-01T08:03:38.811Z"
   },
   {
    "duration": 4,
    "start_time": "2021-10-01T08:03:41.183Z"
   },
   {
    "duration": 484,
    "start_time": "2021-10-01T08:03:41.190Z"
   },
   {
    "duration": 29,
    "start_time": "2021-10-01T08:03:41.677Z"
   },
   {
    "duration": 155,
    "start_time": "2021-10-01T08:03:41.710Z"
   },
   {
    "duration": 27,
    "start_time": "2021-10-01T08:03:41.869Z"
   },
   {
    "duration": 110,
    "start_time": "2021-10-01T08:03:41.899Z"
   },
   {
    "duration": 47,
    "start_time": "2021-10-01T08:03:42.011Z"
   },
   {
    "duration": 97,
    "start_time": "2021-10-01T08:03:42.060Z"
   },
   {
    "duration": 10,
    "start_time": "2021-10-01T08:03:42.161Z"
   },
   {
    "duration": 92,
    "start_time": "2021-10-01T08:03:42.174Z"
   },
   {
    "duration": 91,
    "start_time": "2021-10-01T08:03:42.269Z"
   },
   {
    "duration": 35,
    "start_time": "2021-10-01T08:03:42.363Z"
   },
   {
    "duration": 9,
    "start_time": "2021-10-01T08:03:42.460Z"
   },
   {
    "duration": 104,
    "start_time": "2021-10-01T08:03:42.559Z"
   },
   {
    "duration": 92,
    "start_time": "2021-10-01T08:03:42.666Z"
   },
   {
    "duration": 6,
    "start_time": "2021-10-01T08:03:42.761Z"
   },
   {
    "duration": 8,
    "start_time": "2021-10-01T08:03:42.769Z"
   },
   {
    "duration": 103,
    "start_time": "2021-10-01T08:03:42.779Z"
   },
   {
    "duration": 9,
    "start_time": "2021-10-01T08:03:42.885Z"
   },
   {
    "duration": 18,
    "start_time": "2021-10-01T08:03:42.897Z"
   },
   {
    "duration": 4,
    "start_time": "2021-10-01T08:03:42.959Z"
   },
   {
    "duration": 11,
    "start_time": "2021-10-01T08:03:42.966Z"
   },
   {
    "duration": 38,
    "start_time": "2021-10-01T08:03:42.979Z"
   },
   {
    "duration": 7,
    "start_time": "2021-10-01T08:03:43.019Z"
   },
   {
    "duration": 16706,
    "start_time": "2021-10-01T08:03:43.029Z"
   }
  ],
  "kernelspec": {
   "display_name": "Python 3 (ipykernel)",
   "language": "python",
   "name": "python3"
  },
  "language_info": {
   "codemirror_mode": {
    "name": "ipython",
    "version": 3
   },
   "file_extension": ".py",
   "mimetype": "text/x-python",
   "name": "python",
   "nbconvert_exporter": "python",
   "pygments_lexer": "ipython3",
   "version": "3.9.12"
  },
  "toc": {
   "base_numbering": 1,
   "nav_menu": {},
   "number_sections": true,
   "sideBar": true,
   "skip_h1_title": true,
   "title_cell": "Table of Contents",
   "title_sidebar": "Contents",
   "toc_cell": false,
   "toc_position": {},
   "toc_section_display": true,
   "toc_window_display": false
  }
 },
 "nbformat": 4,
 "nbformat_minor": 2
}
